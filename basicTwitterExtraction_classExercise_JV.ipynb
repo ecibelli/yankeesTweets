{
 "cells": [
  {
   "cell_type": "markdown",
   "metadata": {},
   "source": [
    "## Basic data extraction and sentiment analysis of Twitter data\n",
    "\n",
    "#### Last updated: 8.20.18\n",
    "#### Emily Cibelli\n",
    "#### emily.cibelli@gmail.com\n",
    "\n",
    "This script was developed by me as an instructional tutorial to help a student develop a basic NLP project. The project is the student's first experience with both Twitter and computational linguistics, so several instructional comments are provided. In addition, several --**decision points**-- highlight where the student needs to make decisions about their own project with respect to data querying, feature selection, and data cleaning. \n",
    "\n",
    "The student's project is to extract data about a particular topic from Twitter, and assess how people feel about that topic using a basic measure of positive and negative words. Here, I demo this process using tweets about my favorite baseball team, the Yankees (sorry). The goal of this  exercise is to find evidence that people tweeting about the Yankees from the New York metro area are more positive than people tweeting from the New England area (Red Sox Nation).\n",
    "\n",
    "This script uses a combo of methods from these two tutorials to extract data using the Twitter Search API:\n",
    "https://www.karambelkar.info/2015/01/how-to-use-twitters-search-rest-api-most-effectively./\n",
    "https://stackabuse.com/accessing-the-twitter-api-with-python/"
   ]
  },
  {
   "cell_type": "code",
   "execution_count": 1,
   "metadata": {
    "collapsed": false
   },
   "outputs": [],
   "source": [
    "## Import modules\n",
    "import tweepy\n",
    "import json\n",
    "import sys\n",
    "import jsonpickle\n",
    "import os\n",
    "import re\n",
    "import pandas as pd\n",
    "import numpy as np\n",
    "import matplotlib.pyplot as plt\n",
    "from bs4 import BeautifulSoup\n",
    "from nltk.tokenize import WordPunctTokenizer"
   ]
  },
  {
   "cell_type": "code",
   "execution_count": 2,
   "metadata": {
    "collapsed": false
   },
   "outputs": [],
   "source": [
    "# Allow plots to show inline in jupyter\n",
    "%matplotlib inline  \n",
    "\n",
    "# Set some default plotting parameters\n",
    "params = {'legend.fontsize': 'x-large',\n",
    "          'figure.figsize': (9, 6),\n",
    "         'axes.labelsize': 'large',\n",
    "         'axes.titlesize':'large',\n",
    "         'xtick.labelsize':'x-large',\n",
    "         'ytick.labelsize':'large'}\n",
    "plt.rcParams.update(params)"
   ]
  },
  {
   "cell_type": "markdown",
   "metadata": {},
   "source": [
    "### Setup all parameters and query"
   ]
  },
  {
   "cell_type": "code",
   "execution_count": 4,
   "metadata": {
    "collapsed": false
   },
   "outputs": [],
   "source": [
    "## Setup \n",
    "# Load Twitter API credentials from json file\n",
    "\n",
    "# Credentials are saved in a separate file and not shared here for privacy reasons.\n",
    "# For testing with other credentials, a dictionary can be easily created;\n",
    "# with 'CONSUMER_KEY' and 'CONSUMER_SECRET' as the keys needed for this exercise.\n",
    "\n",
    "# For code testing without API access:\n",
    "# The raw data in json formatted-data (tweets_yankees.txt) is provided, \n",
    "# as well as the uncleaned pandas data frame (tweets_yankees_unclean_df.csv) \n",
    "# created at the start of the \"set up data frame\" section,\n",
    "# and the final cleaned pandas data frame (tweets_yankees_df.csv.)\n",
    "\n",
    "with open(\"twitter_credentials.json\", \"r\") as file:  \n",
    "    creds = json.load(file)\n",
    "\n",
    "# Replace the API_KEY and API_SECRET with your application's key and secret.\n",
    "auth = tweepy.AppAuthHandler(creds['CONSUMER_KEY'], creds['CONSUMER_SECRET'])\n",
    "\n",
    "\n",
    "api = tweepy.API(auth, wait_on_rate_limit=True,\n",
    "                wait_on_rate_limit_notify=True)\n",
    "\n",
    "if (not api):\n",
    "    print (\"Can't Authenticate\")\n",
    "    sys.exit(-1)"
   ]
  },
  {
   "cell_type": "code",
   "execution_count": 5,
   "metadata": {
    "collapsed": true
   },
   "outputs": [],
   "source": [
    "## Create a dictionary to hold the extracted data\n",
    "## This makes it easy to save only the columns we care about\n",
    "\n",
    "dict_tweet = {'user': [], 'date': [], 'text': [], \n",
    "              'favorite_count': [], 'retweet_count': [],\n",
    "             'location': [], 'bio': [], 'id': []}\n",
    "             #'hashtags': []} "
   ]
  },
  {
   "cell_type": "markdown",
   "metadata": {},
   "source": [
    "## ----Decision point----\n",
    "\n",
    "Do you need other pieces of information from your tweets?\n",
    "\n",
    "See the full list of data that can be extracted here:\n",
    "https://developer.twitter.com/en/docs/tweets/search/api-reference/get-search-tweets\n",
    "\n",
    "Note that some attributes are \"top level;\" others are part of \"user\", \"entities\", etc. \n",
    "See portion of extraction loop referring to dict_tweet below for more detail on how to select these."
   ]
  },
  {
   "cell_type": "code",
   "execution_count": 6,
   "metadata": {
    "collapsed": true
   },
   "outputs": [],
   "source": [
    "## Set the query parameters\n",
    "\n",
    "# For this exercise, I'm looking at tweets about the Yankees \n",
    "# to see how people are feeling about the team at this point in time (late August)\n",
    "\n",
    "searchQuery = 'yankees'  # this is what we're searching for\n",
    "maxTweets = 5000 # Small for testing, but you want a much larger number for your project\n",
    "tweetsPerQry = 100  # this is the max the API permits per query\n",
    "fName = 'tweets_yankees.txt' # Store a backup of the tweets in json\n",
    "\n",
    "# If results from a specific ID onwards are required, set since_id to that ID.\n",
    "# else default to no lower limit, go as far back as API allows\n",
    "sinceId = None\n",
    "\n",
    "# If results only below a specific ID are, set max_id to that ID.\n",
    "# else default to no upper limit, start from the most recent tweet matching the search query.\n",
    "max_id = -1L\n",
    "\n",
    "# Note that max_id is also used below to help search the available data without grabbing the same tweets over and over again.\n",
    "# Every time a query is run, the new max_id is set to the highest number from the previous query, minus 1.\n",
    "# In this way, you start from the most recent tweets in the first query, and work backwards to older tweets. "
   ]
  },
  {
   "cell_type": "markdown",
   "metadata": {},
   "source": [
    "## ----Decision point----\n",
    "\n",
    "1. What search query will you run?\n",
    "\n",
    "2. Will you search multiple keywords? If so, you need to set up multiple queries and extractions.\n",
    "\n",
    "3. How many tweets will you collect from each keyword?"
   ]
  },
  {
   "cell_type": "markdown",
   "metadata": {},
   "source": [
    "### Extract the data from the API"
   ]
  },
  {
   "cell_type": "code",
   "execution_count": 7,
   "metadata": {
    "collapsed": false
   },
   "outputs": [
    {
     "name": "stdout",
     "output_type": "stream",
     "text": [
      "Downloading max 5000 tweets\n",
      "Downloaded 100 tweets\n",
      "Downloaded 200 tweets\n",
      "Downloaded 300 tweets\n",
      "Downloaded 400 tweets\n",
      "Downloaded 500 tweets\n",
      "Downloaded 600 tweets\n",
      "Downloaded 700 tweets\n",
      "Downloaded 800 tweets\n",
      "Downloaded 900 tweets\n",
      "Downloaded 1000 tweets\n",
      "Downloaded 1100 tweets\n",
      "Downloaded 1200 tweets\n",
      "Downloaded 1300 tweets\n",
      "Downloaded 1400 tweets\n",
      "Downloaded 1500 tweets\n",
      "Downloaded 1600 tweets\n",
      "Downloaded 1700 tweets\n",
      "Downloaded 1800 tweets\n",
      "Downloaded 1900 tweets\n",
      "Downloaded 2000 tweets\n",
      "Downloaded 2100 tweets\n",
      "Downloaded 2200 tweets\n",
      "Downloaded 2300 tweets\n",
      "Downloaded 2400 tweets\n",
      "Downloaded 2500 tweets\n",
      "Downloaded 2600 tweets\n",
      "Downloaded 2700 tweets\n",
      "Downloaded 2800 tweets\n",
      "Downloaded 2900 tweets\n",
      "Downloaded 3000 tweets\n",
      "Downloaded 3100 tweets\n",
      "Downloaded 3200 tweets\n",
      "Downloaded 3300 tweets\n",
      "Downloaded 3400 tweets\n",
      "Downloaded 3500 tweets\n",
      "Downloaded 3600 tweets\n",
      "Downloaded 3700 tweets\n",
      "Downloaded 3800 tweets\n",
      "Downloaded 3900 tweets\n",
      "Downloaded 4000 tweets\n",
      "Downloaded 4100 tweets\n",
      "Downloaded 4200 tweets\n",
      "Downloaded 4300 tweets\n",
      "Downloaded 4400 tweets\n",
      "Downloaded 4500 tweets\n",
      "Downloaded 4600 tweets\n",
      "Downloaded 4700 tweets\n",
      "Downloaded 4800 tweets\n",
      "Downloaded 4900 tweets\n",
      "Downloaded 5000 tweets\n",
      "Downloaded 5000 tweets, Saved to tweets_yankees.txt\n"
     ]
    }
   ],
   "source": [
    "# Initiate the count to keep track of how many tweets are collected\n",
    "# With the counter at the bottom of the loop, this will increment every query\n",
    "# Generally you will get 100 tweets every time, \n",
    "# but for reasons I don't entirely understand the number will sometimes be a little less.\n",
    "tweetCount = 0\n",
    "print(\"Downloading max {0} tweets\".format(maxTweets))\n",
    "\n",
    "# Loop through and search for tweets\n",
    "with open(fName, 'w') as f:\n",
    "    while tweetCount < maxTweets:\n",
    "        try:\n",
    "            if (max_id <= 0):\n",
    "                if (not sinceId):\n",
    "                    new_tweets = api.search(q=searchQuery, count=tweetsPerQry, lang='en')\n",
    "                else:\n",
    "                    new_tweets = api.search(q=searchQuery, count=tweetsPerQry, lang='en',\n",
    "                                            since_id=sinceId)\n",
    "            else:\n",
    "                if (not sinceId):\n",
    "                    new_tweets = api.search(q=searchQuery, count=tweetsPerQry, lang='en',\n",
    "                                            max_id=str(max_id - 1))\n",
    "                else:\n",
    "                    new_tweets = api.search(q=searchQuery, count=tweetsPerQry, lang='en',\n",
    "                                            max_id=str(max_id - 1),\n",
    "                                            since_id=sinceId)\n",
    "                    \n",
    "            # Save each tweet as it comes in to the dictionary with only the columns you care about\n",
    "            for tweet in new_tweets:  \n",
    "                dict_tweet['user'].append(tweet.user.screen_name)\n",
    "                dict_tweet['date'].append(tweet.created_at)\n",
    "                dict_tweet['text'].append(tweet.text)\n",
    "                dict_tweet['favorite_count'].append(tweet.favorite_count)\n",
    "                dict_tweet['retweet_count'].append(tweet.retweet_count)\n",
    "                dict_tweet['location'].append(tweet.user.location)\n",
    "                dict_tweet['bio'].append(tweet.user.description)\n",
    "                dict_tweet['id'].append(tweet.user.id_str)\n",
    "                #dict_tweet['hashtags'].append(tweet.entities.hashtags)\n",
    "                \n",
    "            if not new_tweets:\n",
    "                print(\"No more tweets found\")\n",
    "                break\n",
    "            # Save a backup json file with every piece of information from every tweet\n",
    "            for tweet in new_tweets:\n",
    "                f.write(jsonpickle.encode(tweet._json, unpicklable=False) +\n",
    "                        '\\n')\n",
    "            tweetCount += len(new_tweets)\n",
    "            print(\"Downloaded {0} tweets\".format(tweetCount))\n",
    "            max_id = new_tweets[-1].id\n",
    "            \n",
    "        except tweepy.TweepError as e:\n",
    "            # Just exit if any error\n",
    "            print(\"some error : \" + str(e))\n",
    "            break\n",
    "\n",
    "print (\"Downloaded {0} tweets, Saved to {1}\".format(tweetCount, fName))"
   ]
  },
  {
   "cell_type": "markdown",
   "metadata": {},
   "source": [
    "## Set data up in data frame"
   ]
  },
  {
   "cell_type": "code",
   "execution_count": 8,
   "metadata": {
    "collapsed": false
   },
   "outputs": [],
   "source": [
    "## Convert dictionary to data frame\n",
    "\n",
    "import pandas as pd\n",
    "tweet_df = pd.DataFrame(dict_tweet)\n",
    "\n",
    "# Sort by date\n",
    "tweet_df.sort_values(by = 'date', inplace = True, ascending = True) # sort by date"
   ]
  },
  {
   "cell_type": "code",
   "execution_count": 9,
   "metadata": {
    "collapsed": false
   },
   "outputs": [],
   "source": [
    "# Save the uncleaned data here as a backup\n",
    "tweet_df.to_csv('tweets_yankees_unclean_df.csv',  encoding='utf-8')"
   ]
  },
  {
   "cell_type": "code",
   "execution_count": 10,
   "metadata": {
    "collapsed": false
   },
   "outputs": [
    {
     "data": {
      "text/html": [
       "<div>\n",
       "<table border=\"1\" class=\"dataframe\">\n",
       "  <thead>\n",
       "    <tr style=\"text-align: right;\">\n",
       "      <th></th>\n",
       "      <th>bio</th>\n",
       "      <th>date</th>\n",
       "      <th>favorite_count</th>\n",
       "      <th>id</th>\n",
       "      <th>location</th>\n",
       "      <th>retweet_count</th>\n",
       "      <th>text</th>\n",
       "      <th>user</th>\n",
       "    </tr>\n",
       "  </thead>\n",
       "  <tbody>\n",
       "    <tr>\n",
       "      <th>4999</th>\n",
       "      <td>CES Boxing matchmaker and publicist / Writer f...</td>\n",
       "      <td>2018-08-31 04:00:05</td>\n",
       "      <td>0</td>\n",
       "      <td>37602850</td>\n",
       "      <td>Providence, R.I.</td>\n",
       "      <td>0</td>\n",
       "      <td>@sofascout1 @Yankees I think this means they k...</td>\n",
       "      <td>MichaelParente</td>\n",
       "    </tr>\n",
       "    <tr>\n",
       "      <th>4998</th>\n",
       "      <td></td>\n",
       "      <td>2018-08-31 04:00:05</td>\n",
       "      <td>0</td>\n",
       "      <td>987347124357648384</td>\n",
       "      <td>Pittsburgh, PA</td>\n",
       "      <td>4085</td>\n",
       "      <td>RT @SportsCenter: Breaking: The Yankees have a...</td>\n",
       "      <td>CaliguireLynn</td>\n",
       "    </tr>\n",
       "    <tr>\n",
       "      <th>4997</th>\n",
       "      <td>https://t.co/9DJwqM1n69</td>\n",
       "      <td>2018-08-31 04:00:05</td>\n",
       "      <td>0</td>\n",
       "      <td>2992775630</td>\n",
       "      <td>New Orleans, LA</td>\n",
       "      <td>1</td>\n",
       "      <td>RT @_TDaggs: The Yankees getting even more cop</td>\n",
       "      <td>dalekepp</td>\n",
       "    </tr>\n",
       "    <tr>\n",
       "      <th>4992</th>\n",
       "      <td>sam makes me feel special</td>\n",
       "      <td>2018-08-31 04:00:06</td>\n",
       "      <td>1</td>\n",
       "      <td>3247533025</td>\n",
       "      <td>Samantha</td>\n",
       "      <td>0</td>\n",
       "      <td>hold up yankees just got McCutchen? it’s lit!</td>\n",
       "      <td>astrowoorld</td>\n",
       "    </tr>\n",
       "    <tr>\n",
       "      <th>4993</th>\n",
       "      <td>Creator of @Deadseriousness | Jerk |</td>\n",
       "      <td>2018-08-31 04:00:06</td>\n",
       "      <td>23</td>\n",
       "      <td>355697532</td>\n",
       "      <td>Yankees Stadium</td>\n",
       "      <td>4</td>\n",
       "      <td>Yankees are never losing another game this is ...</td>\n",
       "      <td>TheLesterLee</td>\n",
       "    </tr>\n",
       "  </tbody>\n",
       "</table>\n",
       "</div>"
      ],
      "text/plain": [
       "                                                    bio                date  \\\n",
       "4999  CES Boxing matchmaker and publicist / Writer f... 2018-08-31 04:00:05   \n",
       "4998                                                    2018-08-31 04:00:05   \n",
       "4997                            https://t.co/9DJwqM1n69 2018-08-31 04:00:05   \n",
       "4992                          sam makes me feel special 2018-08-31 04:00:06   \n",
       "4993               Creator of @Deadseriousness | Jerk | 2018-08-31 04:00:06   \n",
       "\n",
       "      favorite_count                  id          location  retweet_count  \\\n",
       "4999               0            37602850  Providence, R.I.              0   \n",
       "4998               0  987347124357648384    Pittsburgh, PA           4085   \n",
       "4997               0          2992775630   New Orleans, LA              1   \n",
       "4992               1          3247533025          Samantha              0   \n",
       "4993              23           355697532   Yankees Stadium              4   \n",
       "\n",
       "                                                   text            user  \n",
       "4999  @sofascout1 @Yankees I think this means they k...  MichaelParente  \n",
       "4998  RT @SportsCenter: Breaking: The Yankees have a...   CaliguireLynn  \n",
       "4997     RT @_TDaggs: The Yankees getting even more cop        dalekepp  \n",
       "4992      hold up yankees just got McCutchen? it’s lit!     astrowoorld  \n",
       "4993  Yankees are never losing another game this is ...    TheLesterLee  "
      ]
     },
     "execution_count": 10,
     "metadata": {},
     "output_type": "execute_result"
    }
   ],
   "source": [
    "tweet_df.head(5)"
   ]
  },
  {
   "cell_type": "markdown",
   "metadata": {},
   "source": [
    "## Data cleaning"
   ]
  },
  {
   "cell_type": "code",
   "execution_count": 11,
   "metadata": {
    "collapsed": false
   },
   "outputs": [],
   "source": [
    "# Very basic data cleaning routine from here:\n",
    "# https://towardsdatascience.com/another-twitter-sentiment-analysis-bb5b01ebad90\n",
    "\n",
    "tok = WordPunctTokenizer()\n",
    "pat1 = r'@[A-Za-z0-9]+'\n",
    "pat2 = r'https?://[A-Za-z0-9./]+'\n",
    "combined_pat = r'|'.join((pat1, pat2))"
   ]
  },
  {
   "cell_type": "code",
   "execution_count": 12,
   "metadata": {
    "collapsed": true
   },
   "outputs": [],
   "source": [
    "def tweet_cleaner(text):\n",
    "    soup = BeautifulSoup(text, 'lxml')\n",
    "    souped = soup.get_text()\n",
    "    stripped = re.sub(combined_pat, '', souped)\n",
    "    try:\n",
    "        clean = stripped.decode(\"utf-8-sig\").replace(u\"\\ufffd\", \"?\")\n",
    "    except:\n",
    "        clean = stripped\n",
    "    letters_only = re.sub(\"[^a-zA-Z]\", \" \", clean)\n",
    "    lower_case = letters_only.lower()\n",
    "    # During the letters_only process two lines above, it has created unnecessay white spaces,\n",
    "    # I will tokenize and join together to remove unneccessary white spaces\n",
    "    words = tok.tokenize(lower_case)\n",
    "    return (\" \".join(words)).strip()"
   ]
  },
  {
   "cell_type": "markdown",
   "metadata": {},
   "source": [
    "## ----Decision point----\n",
    "1. This is a limited set of features. What else do we need to clean?\n",
    "2. Do other columns need to be cleaned, or juts the tweet itself?"
   ]
  },
  {
   "cell_type": "code",
   "execution_count": 15,
   "metadata": {
    "collapsed": false
   },
   "outputs": [
    {
     "data": {
      "text/plain": [
       "[u'i think this means they know judge isn t coming back',\n",
       " u'rt breaking the yankees have agreed to a trade for giants of andrew mccutchen a source told espn',\n",
       " u'rt tdaggs the yankees getting even more cop',\n",
       " u'hold up yankees just got mccutchen it s lit',\n",
       " u'yankees are never losing another game this is the biggest move in mlb history yankees just won their th world se',\n",
       " u'rt carrabis immediately after the yankees blow it in the ninth a two run game tying ding dong for mookie betts the best player in',\n",
       " u'report giants will pull trigger trade mccutchen to yankees',\n",
       " u'rt yankees acquire former nl mvp andrew mccutchen from the giants per espn',\n",
       " u'rt espn source yankees on the verge of a deal for andrew mccuthchen',\n",
       " u'yankee fan reaction to yankees trading for andrew mccutchen via pinstripepride watch',\n",
       " u'rt club',\n",
       " u'rt the yankees acquire sfgiants of andrew mccutchen per espn the giants get prospects per',\n",
       " u'sfgiants cutch to the yankees wow',\n",
       " u'cutch to the yankees sucks because he s one of the non sox that i love damn freakin shame',\n",
       " u'rt reports state that the yankees have acquired andrew mccutchen from the sf giants',\n",
       " u'rt toybox every yankee fan knows betances can not close games and i mean every',\n",
       " u'rt the new york yankees have acquired andrew mccutchen from the giants',\n",
       " u'rt breaking the yankees have agreed to a trade for giants of andrew mccutchen a source told espn',\n",
       " u'god remember the good old days of the bad yankees',\n",
       " u'rt breaking the yankees have agreed to a trade for giants of andrew mccutchen a source told espn',\n",
       " u'rt milestone mash',\n",
       " u'rt breaking the yankees have agreed to a trade for giants of andrew mccutchen a source told espn',\n",
       " u'rt yankees acquire former nl mvp andrew mccutchen from the giants per espn',\n",
       " u'rt pirates win games andrew mccutchen and neil walker are on the yankees and the pirates best pitcher changed his',\n",
       " u'rt i hear if the trade is completed yankees will be sending two prospects to the sfgiants for mccutchen and that abital av']"
      ]
     },
     "execution_count": 15,
     "metadata": {},
     "output_type": "execute_result"
    }
   ],
   "source": [
    "# Test out the cleaner\n",
    "testing = tweet_df.text[:100]\n",
    "test_result = []\n",
    "for t in testing:\n",
    "    test_result.append(tweet_cleaner(t))\n",
    "test_result[0:25]"
   ]
  },
  {
   "cell_type": "code",
   "execution_count": 21,
   "metadata": {
    "collapsed": false
   },
   "outputs": [],
   "source": [
    "# looks good (albeit with a warning, process the whole thing\n",
    "all_tweets = tweet_df.text\n",
    "text_cleaned = []\n",
    "for t in all_tweets:\n",
    "    text_cleaned.append(tweet_cleaner(t))\n",
    "    \n",
    "# Hmm, HTTP not ideal in Beautiful Soup. Something to investigate if urls look like a continuing problem    "
   ]
  },
  {
   "cell_type": "code",
   "execution_count": 22,
   "metadata": {
    "collapsed": false
   },
   "outputs": [
    {
     "data": {
      "text/plain": [
       "5000"
      ]
     },
     "execution_count": 22,
     "metadata": {},
     "output_type": "execute_result"
    }
   ],
   "source": [
    "# make sure we have all the data\n",
    "len(text_cleaned)"
   ]
  },
  {
   "cell_type": "code",
   "execution_count": 23,
   "metadata": {
    "collapsed": true
   },
   "outputs": [],
   "source": [
    "# append cleaned data to data frame\n",
    "text_clean = pd.Series(text_cleaned)\n",
    "tweet_df['text_clean'] = text_clean.values"
   ]
  },
  {
   "cell_type": "code",
   "execution_count": 24,
   "metadata": {
    "collapsed": false
   },
   "outputs": [],
   "source": [
    "# One more step: drop \"RT\" - we don't want to treat the retweet label as a word\n",
    "tweet_df['text_clean'] = tweet_df['text_clean'].str.replace('rt', '')"
   ]
  },
  {
   "cell_type": "code",
   "execution_count": 25,
   "metadata": {
    "collapsed": false
   },
   "outputs": [
    {
     "data": {
      "text/html": [
       "<div>\n",
       "<table border=\"1\" class=\"dataframe\">\n",
       "  <thead>\n",
       "    <tr style=\"text-align: right;\">\n",
       "      <th></th>\n",
       "      <th>bio</th>\n",
       "      <th>date</th>\n",
       "      <th>favorite_count</th>\n",
       "      <th>id</th>\n",
       "      <th>location</th>\n",
       "      <th>retweet_count</th>\n",
       "      <th>text</th>\n",
       "      <th>user</th>\n",
       "      <th>text_clean</th>\n",
       "    </tr>\n",
       "  </thead>\n",
       "  <tbody>\n",
       "    <tr>\n",
       "      <th>4999</th>\n",
       "      <td>CES Boxing matchmaker and publicist / Writer f...</td>\n",
       "      <td>2018-08-31 04:00:05</td>\n",
       "      <td>0</td>\n",
       "      <td>37602850</td>\n",
       "      <td>Providence, R.I.</td>\n",
       "      <td>0</td>\n",
       "      <td>@sofascout1 @Yankees I think this means they k...</td>\n",
       "      <td>MichaelParente</td>\n",
       "      <td>i think this means they know judge isn t comin...</td>\n",
       "    </tr>\n",
       "    <tr>\n",
       "      <th>4998</th>\n",
       "      <td></td>\n",
       "      <td>2018-08-31 04:00:05</td>\n",
       "      <td>0</td>\n",
       "      <td>987347124357648384</td>\n",
       "      <td>Pittsburgh, PA</td>\n",
       "      <td>4085</td>\n",
       "      <td>RT @SportsCenter: Breaking: The Yankees have a...</td>\n",
       "      <td>CaliguireLynn</td>\n",
       "      <td>breaking the yankees have agreed to a trade f...</td>\n",
       "    </tr>\n",
       "    <tr>\n",
       "      <th>4997</th>\n",
       "      <td>https://t.co/9DJwqM1n69</td>\n",
       "      <td>2018-08-31 04:00:05</td>\n",
       "      <td>0</td>\n",
       "      <td>2992775630</td>\n",
       "      <td>New Orleans, LA</td>\n",
       "      <td>1</td>\n",
       "      <td>RT @_TDaggs: The Yankees getting even more cop</td>\n",
       "      <td>dalekepp</td>\n",
       "      <td>tdaggs the yankees getting even more cop</td>\n",
       "    </tr>\n",
       "    <tr>\n",
       "      <th>4992</th>\n",
       "      <td>sam makes me feel special</td>\n",
       "      <td>2018-08-31 04:00:06</td>\n",
       "      <td>1</td>\n",
       "      <td>3247533025</td>\n",
       "      <td>Samantha</td>\n",
       "      <td>0</td>\n",
       "      <td>hold up yankees just got McCutchen? it’s lit!</td>\n",
       "      <td>astrowoorld</td>\n",
       "      <td>hold up yankees just got mccutchen it s lit</td>\n",
       "    </tr>\n",
       "    <tr>\n",
       "      <th>4993</th>\n",
       "      <td>Creator of @Deadseriousness | Jerk |</td>\n",
       "      <td>2018-08-31 04:00:06</td>\n",
       "      <td>23</td>\n",
       "      <td>355697532</td>\n",
       "      <td>Yankees Stadium</td>\n",
       "      <td>4</td>\n",
       "      <td>Yankees are never losing another game this is ...</td>\n",
       "      <td>TheLesterLee</td>\n",
       "      <td>yankees are never losing another game this is ...</td>\n",
       "    </tr>\n",
       "  </tbody>\n",
       "</table>\n",
       "</div>"
      ],
      "text/plain": [
       "                                                    bio                date  \\\n",
       "4999  CES Boxing matchmaker and publicist / Writer f... 2018-08-31 04:00:05   \n",
       "4998                                                    2018-08-31 04:00:05   \n",
       "4997                            https://t.co/9DJwqM1n69 2018-08-31 04:00:05   \n",
       "4992                          sam makes me feel special 2018-08-31 04:00:06   \n",
       "4993               Creator of @Deadseriousness | Jerk | 2018-08-31 04:00:06   \n",
       "\n",
       "      favorite_count                  id          location  retweet_count  \\\n",
       "4999               0            37602850  Providence, R.I.              0   \n",
       "4998               0  987347124357648384    Pittsburgh, PA           4085   \n",
       "4997               0          2992775630   New Orleans, LA              1   \n",
       "4992               1          3247533025          Samantha              0   \n",
       "4993              23           355697532   Yankees Stadium              4   \n",
       "\n",
       "                                                   text            user  \\\n",
       "4999  @sofascout1 @Yankees I think this means they k...  MichaelParente   \n",
       "4998  RT @SportsCenter: Breaking: The Yankees have a...   CaliguireLynn   \n",
       "4997     RT @_TDaggs: The Yankees getting even more cop        dalekepp   \n",
       "4992      hold up yankees just got McCutchen? it’s lit!     astrowoorld   \n",
       "4993  Yankees are never losing another game this is ...    TheLesterLee   \n",
       "\n",
       "                                             text_clean  \n",
       "4999  i think this means they know judge isn t comin...  \n",
       "4998   breaking the yankees have agreed to a trade f...  \n",
       "4997           tdaggs the yankees getting even more cop  \n",
       "4992        hold up yankees just got mccutchen it s lit  \n",
       "4993  yankees are never losing another game this is ...  "
      ]
     },
     "execution_count": 25,
     "metadata": {},
     "output_type": "execute_result"
    }
   ],
   "source": [
    "tweet_df.head(5)"
   ]
  },
  {
   "cell_type": "markdown",
   "metadata": {},
   "source": [
    "## ----Decision point----\n",
    "Is this how you want to handle retweets? (e.g. by ignoring that they are retweets?) We may have some duplicates that way!\n",
    "\n",
    "Or, you could remove all rows that represent re-tweeted data, and then sample new data until you have enough original tweets.\n",
    "\n",
    "OR, consider filtering them out in your initial query! See more details here:\n",
    "https://developer.twitter.com/en/docs/tweets/rules-and-filtering/overview/standard-operators"
   ]
  },
  {
   "cell_type": "markdown",
   "metadata": {},
   "source": [
    "## Extract feature(s) of interest\n",
    "\n",
    "The goal here is to pull a piece of information from a column and use it to create a new category in the data\n",
    "\n",
    "Some background: Here I am searching bios to find users who identify as being located in New York, New Jersey, or Connecticut (\"Yankees territory\") i.e. the tri-state area. (Well, one of many in the U.S.) This is imperfect, as each state shares a fandom with other teams (NJ with the Phillies, CT with the Red Sox, NY with the Mets), but we'll roll with it for now. A fun future project would be to figure out who among these users are Yankees fans vs. fans of the other teams based on their Twitter info."
   ]
  },
  {
   "cell_type": "markdown",
   "metadata": {},
   "source": [
    "## ----Decision point----\n",
    "Naturally, your categories will be different.\n",
    "What features do you want to code for?"
   ]
  },
  {
   "cell_type": "code",
   "execution_count": null,
   "metadata": {
    "collapsed": false
   },
   "outputs": [],
   "source": [
    "# lower location - skip for now; easier to search for states with capital letters\n",
    "# tweet_df['location'] = tweet_df['location'].str.lower()"
   ]
  },
  {
   "cell_type": "code",
   "execution_count": 26,
   "metadata": {
    "collapsed": false
   },
   "outputs": [],
   "source": [
    "# Create a column for mentions of tri-state area labels - the states and the big city (NYC)\n",
    "tweet_df['tri_state'] = tweet_df['location'].str.contains('York|york|Jersey|jersey|ny|nj|nyc|NY|NJ|NYC|connecticut|CT|ct')"
   ]
  },
  {
   "cell_type": "code",
   "execution_count": 27,
   "metadata": {
    "collapsed": false
   },
   "outputs": [],
   "source": [
    "# create a second column for new england locations (red sox nation), minus connecticut\n",
    "# fortunately, new england is more homogenous in its baseball fandom\n",
    "tweet_df['new_england'] = tweet_df['location'].str.contains('maine|Maine|ME|massachusetts|Massachusetts|MA|Boston|boston|vermont|vt|Vermont|VT|NH|new hampshire|nh|New Hampshire|New England')"
   ]
  },
  {
   "cell_type": "code",
   "execution_count": 28,
   "metadata": {
    "collapsed": false
   },
   "outputs": [],
   "source": [
    "# Create another column to check for any location label at all\n",
    "# Flag any location that's not an empty string\n",
    "tweet_df['has_loc'] = tweet_df['location'] != \"\""
   ]
  },
  {
   "cell_type": "code",
   "execution_count": 29,
   "metadata": {
    "collapsed": false
   },
   "outputs": [],
   "source": [
    "# Finally, create a column the categorizes all columns into \"tri-state\", \"new england\", \"other\", \"or \"none\"\n",
    "tweet_df['loc_cat'] = ''\n",
    "tweet_df.loc[tweet_df['has_loc'] == False, 'loc_cat'] = 'none'\n",
    "tweet_df.loc[tweet_df['new_england'] == True, 'loc_cat'] = 'new_england'\n",
    "tweet_df.loc[tweet_df['tri_state'] == True, 'loc_cat'] = 'tri_state'\n",
    "tweet_df.loc[tweet_df['loc_cat'] == '', 'loc_cat'] = 'other'"
   ]
  },
  {
   "cell_type": "code",
   "execution_count": 30,
   "metadata": {
    "collapsed": false
   },
   "outputs": [
    {
     "data": {
      "text/html": [
       "<div>\n",
       "<table border=\"1\" class=\"dataframe\">\n",
       "  <thead>\n",
       "    <tr style=\"text-align: right;\">\n",
       "      <th></th>\n",
       "      <th>bio</th>\n",
       "      <th>date</th>\n",
       "      <th>favorite_count</th>\n",
       "      <th>id</th>\n",
       "      <th>location</th>\n",
       "      <th>retweet_count</th>\n",
       "      <th>text</th>\n",
       "      <th>user</th>\n",
       "      <th>text_clean</th>\n",
       "      <th>tri_state</th>\n",
       "      <th>new_england</th>\n",
       "      <th>has_loc</th>\n",
       "      <th>loc_cat</th>\n",
       "    </tr>\n",
       "  </thead>\n",
       "  <tbody>\n",
       "    <tr>\n",
       "      <th>4999</th>\n",
       "      <td>CES Boxing matchmaker and publicist / Writer f...</td>\n",
       "      <td>2018-08-31 04:00:05</td>\n",
       "      <td>0</td>\n",
       "      <td>37602850</td>\n",
       "      <td>Providence, R.I.</td>\n",
       "      <td>0</td>\n",
       "      <td>@sofascout1 @Yankees I think this means they k...</td>\n",
       "      <td>MichaelParente</td>\n",
       "      <td>i think this means they know judge isn t comin...</td>\n",
       "      <td>False</td>\n",
       "      <td>False</td>\n",
       "      <td>True</td>\n",
       "      <td>other</td>\n",
       "    </tr>\n",
       "    <tr>\n",
       "      <th>4998</th>\n",
       "      <td></td>\n",
       "      <td>2018-08-31 04:00:05</td>\n",
       "      <td>0</td>\n",
       "      <td>987347124357648384</td>\n",
       "      <td>Pittsburgh, PA</td>\n",
       "      <td>4085</td>\n",
       "      <td>RT @SportsCenter: Breaking: The Yankees have a...</td>\n",
       "      <td>CaliguireLynn</td>\n",
       "      <td>breaking the yankees have agreed to a trade f...</td>\n",
       "      <td>False</td>\n",
       "      <td>False</td>\n",
       "      <td>True</td>\n",
       "      <td>other</td>\n",
       "    </tr>\n",
       "    <tr>\n",
       "      <th>4997</th>\n",
       "      <td>https://t.co/9DJwqM1n69</td>\n",
       "      <td>2018-08-31 04:00:05</td>\n",
       "      <td>0</td>\n",
       "      <td>2992775630</td>\n",
       "      <td>New Orleans, LA</td>\n",
       "      <td>1</td>\n",
       "      <td>RT @_TDaggs: The Yankees getting even more cop</td>\n",
       "      <td>dalekepp</td>\n",
       "      <td>tdaggs the yankees getting even more cop</td>\n",
       "      <td>False</td>\n",
       "      <td>False</td>\n",
       "      <td>True</td>\n",
       "      <td>other</td>\n",
       "    </tr>\n",
       "    <tr>\n",
       "      <th>4992</th>\n",
       "      <td>sam makes me feel special</td>\n",
       "      <td>2018-08-31 04:00:06</td>\n",
       "      <td>1</td>\n",
       "      <td>3247533025</td>\n",
       "      <td>Samantha</td>\n",
       "      <td>0</td>\n",
       "      <td>hold up yankees just got McCutchen? it’s lit!</td>\n",
       "      <td>astrowoorld</td>\n",
       "      <td>hold up yankees just got mccutchen it s lit</td>\n",
       "      <td>False</td>\n",
       "      <td>False</td>\n",
       "      <td>True</td>\n",
       "      <td>other</td>\n",
       "    </tr>\n",
       "    <tr>\n",
       "      <th>4993</th>\n",
       "      <td>Creator of @Deadseriousness | Jerk |</td>\n",
       "      <td>2018-08-31 04:00:06</td>\n",
       "      <td>23</td>\n",
       "      <td>355697532</td>\n",
       "      <td>Yankees Stadium</td>\n",
       "      <td>4</td>\n",
       "      <td>Yankees are never losing another game this is ...</td>\n",
       "      <td>TheLesterLee</td>\n",
       "      <td>yankees are never losing another game this is ...</td>\n",
       "      <td>False</td>\n",
       "      <td>False</td>\n",
       "      <td>True</td>\n",
       "      <td>other</td>\n",
       "    </tr>\n",
       "  </tbody>\n",
       "</table>\n",
       "</div>"
      ],
      "text/plain": [
       "                                                    bio                date  \\\n",
       "4999  CES Boxing matchmaker and publicist / Writer f... 2018-08-31 04:00:05   \n",
       "4998                                                    2018-08-31 04:00:05   \n",
       "4997                            https://t.co/9DJwqM1n69 2018-08-31 04:00:05   \n",
       "4992                          sam makes me feel special 2018-08-31 04:00:06   \n",
       "4993               Creator of @Deadseriousness | Jerk | 2018-08-31 04:00:06   \n",
       "\n",
       "      favorite_count                  id          location  retweet_count  \\\n",
       "4999               0            37602850  Providence, R.I.              0   \n",
       "4998               0  987347124357648384    Pittsburgh, PA           4085   \n",
       "4997               0          2992775630   New Orleans, LA              1   \n",
       "4992               1          3247533025          Samantha              0   \n",
       "4993              23           355697532   Yankees Stadium              4   \n",
       "\n",
       "                                                   text            user  \\\n",
       "4999  @sofascout1 @Yankees I think this means they k...  MichaelParente   \n",
       "4998  RT @SportsCenter: Breaking: The Yankees have a...   CaliguireLynn   \n",
       "4997     RT @_TDaggs: The Yankees getting even more cop        dalekepp   \n",
       "4992      hold up yankees just got McCutchen? it’s lit!     astrowoorld   \n",
       "4993  Yankees are never losing another game this is ...    TheLesterLee   \n",
       "\n",
       "                                             text_clean tri_state new_england  \\\n",
       "4999  i think this means they know judge isn t comin...     False       False   \n",
       "4998   breaking the yankees have agreed to a trade f...     False       False   \n",
       "4997           tdaggs the yankees getting even more cop     False       False   \n",
       "4992        hold up yankees just got mccutchen it s lit     False       False   \n",
       "4993  yankees are never losing another game this is ...     False       False   \n",
       "\n",
       "     has_loc loc_cat  \n",
       "4999    True   other  \n",
       "4998    True   other  \n",
       "4997    True   other  \n",
       "4992    True   other  \n",
       "4993    True   other  "
      ]
     },
     "execution_count": 30,
     "metadata": {},
     "output_type": "execute_result"
    }
   ],
   "source": [
    "tweet_df.head(5)"
   ]
  },
  {
   "cell_type": "code",
   "execution_count": 31,
   "metadata": {
    "collapsed": false
   },
   "outputs": [
    {
     "data": {
      "text/plain": [
       "<matplotlib.axes._subplots.AxesSubplot at 0x10f686a0>"
      ]
     },
     "execution_count": 31,
     "metadata": {},
     "output_type": "execute_result"
    },
    {
     "data": {
      "image/png": "[encoded data removed]",
      "text/plain": [
       "<matplotlib.figure.Figure at 0x10a4fcc0>"
      ]
     },
     "metadata": {},
     "output_type": "display_data"
    }
   ],
   "source": [
    "# Quick visualizaiton: how many tweets in each location category?\n",
    "tweet_df['loc_cat'].value_counts().plot(kind='bar')"
   ]
  },
  {
   "cell_type": "markdown",
   "metadata": {},
   "source": [
    "Not a lot of tweets from New England. I guess they're a little busy with their best-in-the-league team...😒"
   ]
  },
  {
   "cell_type": "markdown",
   "metadata": {},
   "source": [
    "## Add in sentiment data"
   ]
  },
  {
   "cell_type": "code",
   "execution_count": 33,
   "metadata": {
    "collapsed": true
   },
   "outputs": [],
   "source": [
    "# Following: http://nealcaren.web.unc.edu/an-introduction-to-text-analysis-with-python-part-3/\n",
    "# Read in lists of positive and negative words from Wilson et al.'s MPQA corpus (http://mpqa.cs.pitt.edu/)\n",
    "posWW = open('positiveWords_wilsonEtAl.txt').read()\n",
    "negWW = open('negativeWords_wilsonEtAl.txt').read()\n",
    "\n",
    "# split the lists into words\n",
    "positive_words = posWW.split('\\n')\n",
    "negative_words = negWW.split('\\n')"
   ]
  },
  {
   "cell_type": "code",
   "execution_count": 34,
   "metadata": {
    "collapsed": false
   },
   "outputs": [
    {
     "data": {
      "text/html": [
       "<div>\n",
       "<table border=\"1\" class=\"dataframe\">\n",
       "  <thead>\n",
       "    <tr style=\"text-align: right;\">\n",
       "      <th></th>\n",
       "      <th>bio</th>\n",
       "      <th>date</th>\n",
       "      <th>favorite_count</th>\n",
       "      <th>id</th>\n",
       "      <th>location</th>\n",
       "      <th>retweet_count</th>\n",
       "      <th>text</th>\n",
       "      <th>user</th>\n",
       "      <th>text_clean</th>\n",
       "      <th>tri_state</th>\n",
       "      <th>new_england</th>\n",
       "      <th>has_loc</th>\n",
       "      <th>loc_cat</th>\n",
       "      <th>word_count</th>\n",
       "    </tr>\n",
       "  </thead>\n",
       "  <tbody>\n",
       "    <tr>\n",
       "      <th>4999</th>\n",
       "      <td>CES Boxing matchmaker and publicist / Writer f...</td>\n",
       "      <td>2018-08-31 04:00:05</td>\n",
       "      <td>0</td>\n",
       "      <td>37602850</td>\n",
       "      <td>Providence, R.I.</td>\n",
       "      <td>0</td>\n",
       "      <td>@sofascout1 @Yankees I think this means they k...</td>\n",
       "      <td>MichaelParente</td>\n",
       "      <td>i think this means they know judge isn t comin...</td>\n",
       "      <td>False</td>\n",
       "      <td>False</td>\n",
       "      <td>True</td>\n",
       "      <td>other</td>\n",
       "      <td>11</td>\n",
       "    </tr>\n",
       "    <tr>\n",
       "      <th>4998</th>\n",
       "      <td></td>\n",
       "      <td>2018-08-31 04:00:05</td>\n",
       "      <td>0</td>\n",
       "      <td>987347124357648384</td>\n",
       "      <td>Pittsburgh, PA</td>\n",
       "      <td>4085</td>\n",
       "      <td>RT @SportsCenter: Breaking: The Yankees have a...</td>\n",
       "      <td>CaliguireLynn</td>\n",
       "      <td>breaking the yankees have agreed to a trade f...</td>\n",
       "      <td>False</td>\n",
       "      <td>False</td>\n",
       "      <td>True</td>\n",
       "      <td>other</td>\n",
       "      <td>17</td>\n",
       "    </tr>\n",
       "    <tr>\n",
       "      <th>4997</th>\n",
       "      <td>https://t.co/9DJwqM1n69</td>\n",
       "      <td>2018-08-31 04:00:05</td>\n",
       "      <td>0</td>\n",
       "      <td>2992775630</td>\n",
       "      <td>New Orleans, LA</td>\n",
       "      <td>1</td>\n",
       "      <td>RT @_TDaggs: The Yankees getting even more cop</td>\n",
       "      <td>dalekepp</td>\n",
       "      <td>tdaggs the yankees getting even more cop</td>\n",
       "      <td>False</td>\n",
       "      <td>False</td>\n",
       "      <td>True</td>\n",
       "      <td>other</td>\n",
       "      <td>7</td>\n",
       "    </tr>\n",
       "    <tr>\n",
       "      <th>4992</th>\n",
       "      <td>sam makes me feel special</td>\n",
       "      <td>2018-08-31 04:00:06</td>\n",
       "      <td>1</td>\n",
       "      <td>3247533025</td>\n",
       "      <td>Samantha</td>\n",
       "      <td>0</td>\n",
       "      <td>hold up yankees just got McCutchen? it’s lit!</td>\n",
       "      <td>astrowoorld</td>\n",
       "      <td>hold up yankees just got mccutchen it s lit</td>\n",
       "      <td>False</td>\n",
       "      <td>False</td>\n",
       "      <td>True</td>\n",
       "      <td>other</td>\n",
       "      <td>9</td>\n",
       "    </tr>\n",
       "    <tr>\n",
       "      <th>4993</th>\n",
       "      <td>Creator of @Deadseriousness | Jerk |</td>\n",
       "      <td>2018-08-31 04:00:06</td>\n",
       "      <td>23</td>\n",
       "      <td>355697532</td>\n",
       "      <td>Yankees Stadium</td>\n",
       "      <td>4</td>\n",
       "      <td>Yankees are never losing another game this is ...</td>\n",
       "      <td>TheLesterLee</td>\n",
       "      <td>yankees are never losing another game this is ...</td>\n",
       "      <td>False</td>\n",
       "      <td>False</td>\n",
       "      <td>True</td>\n",
       "      <td>other</td>\n",
       "      <td>21</td>\n",
       "    </tr>\n",
       "  </tbody>\n",
       "</table>\n",
       "</div>"
      ],
      "text/plain": [
       "                                                    bio                date  \\\n",
       "4999  CES Boxing matchmaker and publicist / Writer f... 2018-08-31 04:00:05   \n",
       "4998                                                    2018-08-31 04:00:05   \n",
       "4997                            https://t.co/9DJwqM1n69 2018-08-31 04:00:05   \n",
       "4992                          sam makes me feel special 2018-08-31 04:00:06   \n",
       "4993               Creator of @Deadseriousness | Jerk | 2018-08-31 04:00:06   \n",
       "\n",
       "      favorite_count                  id          location  retweet_count  \\\n",
       "4999               0            37602850  Providence, R.I.              0   \n",
       "4998               0  987347124357648384    Pittsburgh, PA           4085   \n",
       "4997               0          2992775630   New Orleans, LA              1   \n",
       "4992               1          3247533025          Samantha              0   \n",
       "4993              23           355697532   Yankees Stadium              4   \n",
       "\n",
       "                                                   text            user  \\\n",
       "4999  @sofascout1 @Yankees I think this means they k...  MichaelParente   \n",
       "4998  RT @SportsCenter: Breaking: The Yankees have a...   CaliguireLynn   \n",
       "4997     RT @_TDaggs: The Yankees getting even more cop        dalekepp   \n",
       "4992      hold up yankees just got McCutchen? it’s lit!     astrowoorld   \n",
       "4993  Yankees are never losing another game this is ...    TheLesterLee   \n",
       "\n",
       "                                             text_clean tri_state new_england  \\\n",
       "4999  i think this means they know judge isn t comin...     False       False   \n",
       "4998   breaking the yankees have agreed to a trade f...     False       False   \n",
       "4997           tdaggs the yankees getting even more cop     False       False   \n",
       "4992        hold up yankees just got mccutchen it s lit     False       False   \n",
       "4993  yankees are never losing another game this is ...     False       False   \n",
       "\n",
       "     has_loc loc_cat  word_count  \n",
       "4999    True   other          11  \n",
       "4998    True   other          17  \n",
       "4997    True   other           7  \n",
       "4992    True   other           9  \n",
       "4993    True   other          21  "
      ]
     },
     "execution_count": 34,
     "metadata": {},
     "output_type": "execute_result"
    }
   ],
   "source": [
    "# Add column to count total number of words in each tweet\n",
    "tweet_df['word_count'] = tweet_df['text_clean'].str.split().str.len()\n",
    "tweet_df.head(5)"
   ]
  },
  {
   "cell_type": "markdown",
   "metadata": {},
   "source": [
    "## ----A problem to be fixed!----\n",
    "Right now our cleaning procedure has removed apostrophes in contractions (e.g. he's --> he s). As a result, we're getting an extra count in the word count. Maybe we shouldn't remove them in these cases, or maybe we should remove the white space that results."
   ]
  },
  {
   "cell_type": "code",
   "execution_count": 35,
   "metadata": {
    "collapsed": false
   },
   "outputs": [],
   "source": [
    "# Count the number of positive and negative words in each tweet\n",
    "positive_counts = []\n",
    "negative_counts = []\n",
    "tweet_length = []\n",
    "\n",
    "for tweet in tweet_df['text_clean']:\n",
    "    positive_counter = 0\n",
    "    negative_counter = 0\n",
    "    words = tweet.split(\" \")\n",
    "    tweet_length.append(len(words))\n",
    "    for word in words:\n",
    "        if word in positive_words:\n",
    "            positive_counter = positive_counter + 1\n",
    "        if word in negative_words:\n",
    "            negative_counter = negative_counter + 1\n",
    "    positive_counts.append(positive_counter)\n",
    "    negative_counts.append(negative_counter) "
   ]
  },
  {
   "cell_type": "markdown",
   "metadata": {},
   "source": [
    "## ----An exercise----\n",
    "There is probably a faster, vectorized way to accomplish the above that does not rely on a for loop.. The apply() function may come in handy."
   ]
  },
  {
   "cell_type": "code",
   "execution_count": 36,
   "metadata": {
    "collapsed": true
   },
   "outputs": [],
   "source": [
    "# Add those counts to our data frame\n",
    "tweet_df['pos_count'] = positive_counts\n",
    "tweet_df['neg_count'] = negative_counts"
   ]
  },
  {
   "cell_type": "code",
   "execution_count": 37,
   "metadata": {
    "collapsed": true
   },
   "outputs": [],
   "source": [
    "# Calculate ratios (what proportion of the words in each tweet is positive? negative?)\n",
    "tweet_df['pos_ratio'] = tweet_df['pos_count']/tweet_df['word_count']\n",
    "tweet_df['neg_ratio'] = tweet_df['neg_count']/tweet_df['word_count']"
   ]
  },
  {
   "cell_type": "code",
   "execution_count": 38,
   "metadata": {
    "collapsed": false
   },
   "outputs": [
    {
     "data": {
      "text/html": [
       "<div>\n",
       "<table border=\"1\" class=\"dataframe\">\n",
       "  <thead>\n",
       "    <tr style=\"text-align: right;\">\n",
       "      <th></th>\n",
       "      <th>bio</th>\n",
       "      <th>date</th>\n",
       "      <th>favorite_count</th>\n",
       "      <th>id</th>\n",
       "      <th>location</th>\n",
       "      <th>retweet_count</th>\n",
       "      <th>text</th>\n",
       "      <th>user</th>\n",
       "      <th>text_clean</th>\n",
       "      <th>tri_state</th>\n",
       "      <th>new_england</th>\n",
       "      <th>has_loc</th>\n",
       "      <th>loc_cat</th>\n",
       "      <th>word_count</th>\n",
       "      <th>pos_count</th>\n",
       "      <th>neg_count</th>\n",
       "      <th>pos_ratio</th>\n",
       "      <th>neg_ratio</th>\n",
       "    </tr>\n",
       "  </thead>\n",
       "  <tbody>\n",
       "    <tr>\n",
       "      <th>4999</th>\n",
       "      <td>CES Boxing matchmaker and publicist / Writer f...</td>\n",
       "      <td>2018-08-31 04:00:05</td>\n",
       "      <td>0</td>\n",
       "      <td>37602850</td>\n",
       "      <td>Providence, R.I.</td>\n",
       "      <td>0</td>\n",
       "      <td>@sofascout1 @Yankees I think this means they k...</td>\n",
       "      <td>MichaelParente</td>\n",
       "      <td>i think this means they know judge isn t comin...</td>\n",
       "      <td>False</td>\n",
       "      <td>False</td>\n",
       "      <td>True</td>\n",
       "      <td>other</td>\n",
       "      <td>11</td>\n",
       "      <td>0</td>\n",
       "      <td>0</td>\n",
       "      <td>0.000000</td>\n",
       "      <td>0.000000</td>\n",
       "    </tr>\n",
       "    <tr>\n",
       "      <th>4998</th>\n",
       "      <td></td>\n",
       "      <td>2018-08-31 04:00:05</td>\n",
       "      <td>0</td>\n",
       "      <td>987347124357648384</td>\n",
       "      <td>Pittsburgh, PA</td>\n",
       "      <td>4085</td>\n",
       "      <td>RT @SportsCenter: Breaking: The Yankees have a...</td>\n",
       "      <td>CaliguireLynn</td>\n",
       "      <td>breaking the yankees have agreed to a trade f...</td>\n",
       "      <td>False</td>\n",
       "      <td>False</td>\n",
       "      <td>True</td>\n",
       "      <td>other</td>\n",
       "      <td>17</td>\n",
       "      <td>1</td>\n",
       "      <td>1</td>\n",
       "      <td>0.058824</td>\n",
       "      <td>0.058824</td>\n",
       "    </tr>\n",
       "    <tr>\n",
       "      <th>4997</th>\n",
       "      <td>https://t.co/9DJwqM1n69</td>\n",
       "      <td>2018-08-31 04:00:05</td>\n",
       "      <td>0</td>\n",
       "      <td>2992775630</td>\n",
       "      <td>New Orleans, LA</td>\n",
       "      <td>1</td>\n",
       "      <td>RT @_TDaggs: The Yankees getting even more cop</td>\n",
       "      <td>dalekepp</td>\n",
       "      <td>tdaggs the yankees getting even more cop</td>\n",
       "      <td>False</td>\n",
       "      <td>False</td>\n",
       "      <td>True</td>\n",
       "      <td>other</td>\n",
       "      <td>7</td>\n",
       "      <td>2</td>\n",
       "      <td>1</td>\n",
       "      <td>0.285714</td>\n",
       "      <td>0.142857</td>\n",
       "    </tr>\n",
       "    <tr>\n",
       "      <th>4992</th>\n",
       "      <td>sam makes me feel special</td>\n",
       "      <td>2018-08-31 04:00:06</td>\n",
       "      <td>1</td>\n",
       "      <td>3247533025</td>\n",
       "      <td>Samantha</td>\n",
       "      <td>0</td>\n",
       "      <td>hold up yankees just got McCutchen? it’s lit!</td>\n",
       "      <td>astrowoorld</td>\n",
       "      <td>hold up yankees just got mccutchen it s lit</td>\n",
       "      <td>False</td>\n",
       "      <td>False</td>\n",
       "      <td>True</td>\n",
       "      <td>other</td>\n",
       "      <td>9</td>\n",
       "      <td>1</td>\n",
       "      <td>0</td>\n",
       "      <td>0.111111</td>\n",
       "      <td>0.000000</td>\n",
       "    </tr>\n",
       "    <tr>\n",
       "      <th>4993</th>\n",
       "      <td>Creator of @Deadseriousness | Jerk |</td>\n",
       "      <td>2018-08-31 04:00:06</td>\n",
       "      <td>23</td>\n",
       "      <td>355697532</td>\n",
       "      <td>Yankees Stadium</td>\n",
       "      <td>4</td>\n",
       "      <td>Yankees are never losing another game this is ...</td>\n",
       "      <td>TheLesterLee</td>\n",
       "      <td>yankees are never losing another game this is ...</td>\n",
       "      <td>False</td>\n",
       "      <td>False</td>\n",
       "      <td>True</td>\n",
       "      <td>other</td>\n",
       "      <td>21</td>\n",
       "      <td>1</td>\n",
       "      <td>2</td>\n",
       "      <td>0.047619</td>\n",
       "      <td>0.095238</td>\n",
       "    </tr>\n",
       "  </tbody>\n",
       "</table>\n",
       "</div>"
      ],
      "text/plain": [
       "                                                    bio                date  \\\n",
       "4999  CES Boxing matchmaker and publicist / Writer f... 2018-08-31 04:00:05   \n",
       "4998                                                    2018-08-31 04:00:05   \n",
       "4997                            https://t.co/9DJwqM1n69 2018-08-31 04:00:05   \n",
       "4992                          sam makes me feel special 2018-08-31 04:00:06   \n",
       "4993               Creator of @Deadseriousness | Jerk | 2018-08-31 04:00:06   \n",
       "\n",
       "      favorite_count                  id          location  retweet_count  \\\n",
       "4999               0            37602850  Providence, R.I.              0   \n",
       "4998               0  987347124357648384    Pittsburgh, PA           4085   \n",
       "4997               0          2992775630   New Orleans, LA              1   \n",
       "4992               1          3247533025          Samantha              0   \n",
       "4993              23           355697532   Yankees Stadium              4   \n",
       "\n",
       "                                                   text            user  \\\n",
       "4999  @sofascout1 @Yankees I think this means they k...  MichaelParente   \n",
       "4998  RT @SportsCenter: Breaking: The Yankees have a...   CaliguireLynn   \n",
       "4997     RT @_TDaggs: The Yankees getting even more cop        dalekepp   \n",
       "4992      hold up yankees just got McCutchen? it’s lit!     astrowoorld   \n",
       "4993  Yankees are never losing another game this is ...    TheLesterLee   \n",
       "\n",
       "                                             text_clean tri_state new_england  \\\n",
       "4999  i think this means they know judge isn t comin...     False       False   \n",
       "4998   breaking the yankees have agreed to a trade f...     False       False   \n",
       "4997           tdaggs the yankees getting even more cop     False       False   \n",
       "4992        hold up yankees just got mccutchen it s lit     False       False   \n",
       "4993  yankees are never losing another game this is ...     False       False   \n",
       "\n",
       "     has_loc loc_cat  word_count  pos_count  neg_count  pos_ratio  neg_ratio  \n",
       "4999    True   other          11          0          0   0.000000   0.000000  \n",
       "4998    True   other          17          1          1   0.058824   0.058824  \n",
       "4997    True   other           7          2          1   0.285714   0.142857  \n",
       "4992    True   other           9          1          0   0.111111   0.000000  \n",
       "4993    True   other          21          1          2   0.047619   0.095238  "
      ]
     },
     "execution_count": 38,
     "metadata": {},
     "output_type": "execute_result"
    }
   ],
   "source": [
    "# Check things out again\n",
    "tweet_df.head(5)"
   ]
  },
  {
   "cell_type": "code",
   "execution_count": 39,
   "metadata": {
    "collapsed": false
   },
   "outputs": [
    {
     "data": {
      "text/plain": [
       "array([<matplotlib.axes._subplots.AxesSubplot object at 0x000000000F3A2048>,\n",
       "       <matplotlib.axes._subplots.AxesSubplot object at 0x0000000012D93E80>], dtype=object)"
      ]
     },
     "execution_count": 39,
     "metadata": {},
     "output_type": "execute_result"
    },
    {
     "data": {
      "image/png": "[encoded data removed]",
      "text/plain": [
       "<matplotlib.figure.Figure at 0xf3a2080>"
      ]
     },
     "metadata": {},
     "output_type": "display_data"
    }
   ],
   "source": [
    "# Plot positive ratio as a function of region\n",
    "tweet_df.boxplot(column=['pos_ratio', 'neg_ratio'], by=['loc_cat'])"
   ]
  },
  {
   "cell_type": "markdown",
   "metadata": {},
   "source": [
    "### What conclusions can we infer from this plot?\n",
    "\n",
    "On the positive ratio side, the tri-state has a slightly higher median than the others. But it also has a big range. All the regions are probably full of neutral tweets reporting scores, trades, and other news, so this is not very surprising. \n",
    "\n",
    "### ------\n",
    "\n",
    "On the negative side, New England is not all that negative! Caveat that we don't have many tweets in this category, so our measure may not be that precise. \n",
    "\n",
    "Interestingly, the negative ratio from the Tri-State is pretty comparable to the rest of the country and to \"unknowns\". We could have a lot of Tri-State residents or transplants in the \"other\" group as well (after all, if they're tweeting about the Yankees, they probably care about the team for one reason or another.) Alternately, those lurking other-team fans in the tri-state area might make this group look more like the rest of the country than we'd expect. (But then, why would they be tweeting about the Yankees?)\n",
    "\n",
    "Lots more to investigate here!"
   ]
  },
  {
   "cell_type": "code",
   "execution_count": 40,
   "metadata": {
    "collapsed": true
   },
   "outputs": [],
   "source": [
    "# save data once it's processed\n",
    "tweet_df.to_csv('tweets_yankees_df.csv',  encoding='utf-8')"
   ]
  }
 ],
 "metadata": {
  "kernelspec": {
   "display_name": "Python 2",
   "language": "python",
   "name": "python2"
  },
  "language_info": {
   "codemirror_mode": {
    "name": "ipython",
    "version": 2
   },
   "file_extension": ".py",
   "mimetype": "text/x-python",
   "name": "python",
   "nbconvert_exporter": "python",
   "pygments_lexer": "ipython2",
   "version": "2.7.13"
  }
 },
 "nbformat": 4,
 "nbformat_minor": 2
}
